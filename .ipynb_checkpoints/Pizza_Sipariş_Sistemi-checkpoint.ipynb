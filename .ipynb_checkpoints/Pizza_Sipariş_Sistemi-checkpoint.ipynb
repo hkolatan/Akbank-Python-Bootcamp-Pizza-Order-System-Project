{
 "cells": [
  {
   "cell_type": "markdown",
   "metadata": {
    "id": "KJrtqDgzs8Pa"
   },
   "source": [
    "# Pizza Sipariş Sistemi\n",
    "Global AI Hub ve Akbank'ın düzenlediği Python bootcamp için hazırlanan final projesi."
   ]
  },
  {
   "cell_type": "code",
   "execution_count": 1,
   "metadata": {
    "id": "0xhKJpAls8Pg",
    "tags": []
   },
   "outputs": [],
   "source": [
    "# Kütüphaneleri içe aktarıyoruz.\n",
    "import csv\n",
    "import datetime"
   ]
  },
  {
   "cell_type": "code",
   "execution_count": 2,
   "metadata": {
    "id": "tZPxuVKHs8Pj",
    "tags": []
   },
   "outputs": [],
   "source": [
    "# Menü dosyasının yazdırılması.\n",
    "with open(\"Menu.txt\", \"w\") as menu:\n",
    "    menu.write(\"Global Pizzaya Hoş Geldiniz! \\n\")\n",
    "    menu.write(\"* Lütfen Bir Pizza Tabanı Seçiniz: \\n\")\n",
    "    menu.write(\"1: Klasik \\n\")\n",
    "    menu.write(\"2: Margarita \\n\")\n",
    "    menu.write(\"3: Türk Pizza \\n\")\n",
    "    menu.write(\"4: Sade Pizza \\n\")\n",
    "    menu.write(\"* ve seçeceğiniz sos: \\n\")\n",
    "    menu.write(\"11: Zeytin \\n\")\n",
    "    menu.write(\"12: Mantar \\n\")\n",
    "    menu.write(\"13: Keçi Peyniri \\n\")\n",
    "    menu.write(\"14: Et \\n\")\n",
    "    menu.write(\"15: Soğan \\n\")\n",
    "    menu.write(\"16: Mısır \\n\")\n",
    "    menu.write(\"* Teşekkür ederiz!\")"
   ]
  },
  {
   "cell_type": "code",
   "execution_count": 3,
   "metadata": {
    "id": "Mt8I5j1Us8Pm",
    "tags": []
   },
   "outputs": [],
   "source": [
    "# Pizza üst sınıfını oluşturalım. init metodu ile parametreleri tanımlıyoruz. Kapsülleme için get_description() \n",
    "# ve get_cost() yöntemlerini tanımlıyoruz.\n",
    "class Pizza:\n",
    "    def __init__(self, description, cost):\n",
    "        self.description = description\n",
    "        self.cost = cost\n",
    "\n",
    "    def get_description(self):\n",
    "        return self.description\n",
    "\n",
    "    def get_cost(self):\n",
    "        return self.cost"
   ]
  },
  {
   "cell_type": "code",
   "execution_count": 4,
   "metadata": {
    "id": "kGirsKDLs8Po",
    "tags": []
   },
   "outputs": [],
   "source": [
    "# Pizza alt sınıfını oluşturuyoruz.\n",
    "class KlasikPizza(Pizza): \n",
    "    def __init__(self):\n",
    "        super().__init__(\"Klasik Pizza\", 30.00)\n",
    "\n",
    "class MargaritaPizza(Pizza): \n",
    "    def __init__(self):\n",
    "        super().__init__(\"Margarita Pizza\", 28.50)\n",
    "        \n",
    "class TurkPizza(Pizza): \n",
    "    def __init__(self):\n",
    "        super().__init__(\"Türk Pizza\", 50.00)\n",
    "\n",
    "class SadePizza(Pizza): \n",
    "    def __init__(self):\n",
    "        super().__init__(\"Sade Pizza\", 20.00)"
   ]
  },
  {
   "cell_type": "code",
   "execution_count": 5,
   "metadata": {
    "id": "nMrzEDV3xAIT",
    "tags": []
   },
   "outputs": [],
   "source": [
    "# Decorator süper sınıfını oluşturuyoruz.\n",
    "class Decorator(Pizza):\n",
    "  def __init__(self, component, description, cost):\n",
    "    self.component = component\n",
    "    self.description  = description\n",
    "    self.cost = cost\n",
    "\n",
    "  def get_description(self):\n",
    "    return self.component.get_description() + \" \" + Pizza.get_description(self)\n",
    "\n",
    "  def get_cost(self):\n",
    "    return self.component.get_cost() + Pizza.get_cost(self)"
   ]
  },
  {
   "cell_type": "code",
   "execution_count": 6,
   "metadata": {
    "id": "3aHS8vjtyOKD",
    "tags": []
   },
   "outputs": [],
   "source": [
    "# Decoratorların alt sınıfını oluşturuyoruz.\n",
    "class Zeytin(Decorator):\n",
    "  def __init__(self, component):\n",
    "    super().__init__(component, \"Zeytin\", 4.00)\n",
    "\n",
    "class Mantar(Decorator):\n",
    "  def __init__(self, component):\n",
    "    super().__init__(component, \"Mantar\", 10.00)\n",
    "\n",
    "class KeciPeyniri(Decorator):\n",
    "  def __init__(self, component):\n",
    "    super().__init__(component, \"Keçi Peyniri\", 12.00)\n",
    "\n",
    "class Et(Decorator):\n",
    "  def __init__(self, component):\n",
    "    super().__init__(component, \"Et\", 15.00)\n",
    "\n",
    "class Sogan(Decorator):\n",
    "  def __init__(self, component):\n",
    "    super().__init__(component, \"Soğan\", 5.00) \n",
    "\n",
    "class Misir(Decorator):\n",
    "  def __init__(self, component):\n",
    "    super().__init__(component, \"Mısır\", 6.00) "
   ]
  },
  {
   "cell_type": "code",
   "execution_count": 7,
   "metadata": {
    "colab": {
     "base_uri": "https://localhost:8080/",
     "height": 398
    },
    "id": "NureItjNcodL",
    "outputId": "475e9185-6ec5-489a-db80-5ffb4f536fc2"
   },
   "outputs": [
    {
     "name": "stdout",
     "output_type": "stream",
     "text": [
      "Global Pizzaya Hoş Geldiniz! \n",
      "* Lütfen Bir Pizza Tabanı Seçiniz: \n",
      "1: Klasik \n",
      "2: Margarita \n",
      "3: Türk Pizza \n",
      "4: Sade Pizza \n",
      "* ve seçeceğiniz sos: \n",
      "11: Zeytin \n",
      "12: Mantar \n",
      "13: Keçi Peyniri \n",
      "14: Et \n",
      "15: Soğan \n",
      "16: Mısır \n",
      "* Teşekkür ederiz!\n"
     ]
    },
    {
     "name": "stdin",
     "output_type": "stream",
     "text": [
      "Bir pizza türü seçiniz (1-4):  1\n",
      "Bir sos seçiniz (11-16):  15\n",
      "İsim:  Mustafa\n",
      "TC Kimlik Numarası:  11111111111\n",
      "Kredi Kartı Numaranız:  1111 2222 3333 4444\n",
      "Kredi Kartı Şifreniz:  854\n"
     ]
    },
    {
     "name": "stdout",
     "output_type": "stream",
     "text": [
      "---------------------------------------------------------------\n",
      "Sipariş Detayları:\n",
      "Ad: Mustafa\n",
      "TC Kimlik Numarası: 11111111111\n",
      "Kredi Kartı Numarası: 1111 2222 3333 4444\n",
      "Toplam Fiyat: 35.0\n",
      "Siparişiniz alınmıştır. Toplam tutar: 35.0 TL. Bizi tercih ettiğiniz için teşekkür ederiz!\n"
     ]
    }
   ],
   "source": [
    "# Main fonksiyonu oluşturuyoruz ve while not döngüsü ve if/elif/else statementlarını kullanarak önce pizza seçimi sonrasında da sos seçimini gerçekleştiriyoruz.\n",
    "def main():\n",
    "    with open(\"Menu.txt\", \"r\") as menu:\n",
    "        print(menu.read())\n",
    "        \n",
    "# Pizza türü ve sos seçimlerinin seçilmesi\n",
    "    pizza = None\n",
    "    while not pizza:\n",
    "        pizza_choice = input(\"Bir pizza türü seçiniz (1-4): \")\n",
    "        if pizza_choice == \"1\":\n",
    "            pizza = KlasikPizza()\n",
    "        elif pizza_choice == \"2\":\n",
    "            pizza = MargaritaPizza()\n",
    "        elif pizza_choice == \"3\":\n",
    "            pizza = TurkPizza()\n",
    "        elif pizza_choice == \"4\":\n",
    "            pizza = SadePizza()\n",
    "        else:\n",
    "             print(\"Lütfen geçerli bir seçim yapınız.\")\n",
    "\n",
    "    sauce = None\n",
    "    while not sauce:\n",
    "        sauce_choice = input(\"Bir sos seçiniz (11-16): \")\n",
    "        if sauce_choice == \"11\":\n",
    "            sauce = Zeytin(pizza)\n",
    "        elif sauce_choice == \"12\":\n",
    "            sauce = Mantar(pizza)\n",
    "        elif sauce_choice == \"13\":\n",
    "            sauce = KeciPeyniri(pizza)\n",
    "        elif sauce_choice == \"14\":\n",
    "            sauce = Et(pizza)\n",
    "        elif sauce_choice == \"15\":\n",
    "            sauce = Sogan(pizza)\n",
    "        elif sauce_choice == \"16\":\n",
    "            sauce = Misir(pizza)\n",
    "        else:\n",
    "             print(\"Lütfen geçerli bir seçim yapınız.\")\n",
    "\n",
    "    toplam_tutar = sauce.get_cost()\n",
    "\n",
    "    # Kullanıcı bilgilerinin alınması   \n",
    "    isim = input(\"İsim: \")\n",
    "    tc = input(\"TC Kimlik Numarası: \")\n",
    "    kart_no = input(\"Kredi Kartı Numaranız: \")  \n",
    "    kart_sifre = input(\"Kredi Kartı Şifreniz: \")\n",
    "    \n",
    "    \n",
    "\n",
    "    # Sipariş bilgilerini veritabanına ekleyelim\n",
    "    # Dosya daha önce varsa \"a\" (append) modunda açılır, böylece mevcut veriler korunur ve yeni satır eklenir. \n",
    "    with open (\"Orders_Database.csv\", \"a\", newline='') as database:\n",
    "               rows = [\"İsmi\", \"TC\" , \"Kart Numarası\", \"Pizza Adı\", \"Toplam Tutar\", \"Sipariş Tarihi\", \"Kart Şifresi\"]\n",
    "               writer = csv.writer(database)\n",
    "               writer.writerow(rows)\n",
    "               writer.writerow([isim, tc, kart_no, sauce.get_description(), toplam_tutar , datetime.datetime.now(), kart_sifre])\n",
    "\n",
    "    # Sipariş bilgilerinin ekrana yazdırılan çıktıları\n",
    "    print(\"---------------------------------------------------------------\")\n",
    "    print(\"Sipariş Detayları:\")\n",
    "    print(\"Ad:\", isim)\n",
    "    print(\"TC Kimlik Numarası:\", tc)\n",
    "    print(\"Kredi Kartı Numarası:\", kart_no)\n",
    "    print(\"Toplam Fiyat:\", toplam_tutar)\n",
    "    print(\"Siparişiniz alınmıştır. Toplam tutar: \" + str(toplam_tutar) + \" TL. Bizi tercih ettiğiniz için teşekkür ederiz!\")\n",
    "main()"
   ]
  }
 ],
 "metadata": {
  "colab": {
   "provenance": []
  },
  "kernelspec": {
   "display_name": "Python 3 (ipykernel)",
   "language": "python",
   "name": "python3"
  },
  "language_info": {
   "codemirror_mode": {
    "name": "ipython",
    "version": 3
   },
   "file_extension": ".py",
   "mimetype": "text/x-python",
   "name": "python",
   "nbconvert_exporter": "python",
   "pygments_lexer": "ipython3",
   "version": "3.8.16"
  }
 },
 "nbformat": 4,
 "nbformat_minor": 4
}
